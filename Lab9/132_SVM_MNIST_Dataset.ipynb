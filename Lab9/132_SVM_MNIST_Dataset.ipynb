{
  "nbformat": 4,
  "nbformat_minor": 0,
  "metadata": {
    "colab": {
      "name": "SVM_MNIST_Dataset.ipynb",
      "provenance": [],
      "collapsed_sections": [],
      "include_colab_link": true
    },
    "kernelspec": {
      "display_name": "Python 3 (ipykernel)",
      "language": "python",
      "name": "python3"
    },
    "language_info": {
      "codemirror_mode": {
        "name": "ipython",
        "version": 3
      },
      "file_extension": ".py",
      "mimetype": "text/x-python",
      "name": "python",
      "nbconvert_exporter": "python",
      "pygments_lexer": "ipython3",
      "version": "3.8.1"
    }
  },
  "cells": [
    {
      "cell_type": "markdown",
      "metadata": {
        "id": "view-in-github",
        "colab_type": "text"
      },
      "source": [
        "<a href=\"https://colab.research.google.com/github/Purvsoni/132_PurvSoni/blob/main/Lab9/132_SVM_MNIST_Dataset.ipynb\" target=\"_parent\"><img src=\"https://colab.research.google.com/assets/colab-badge.svg\" alt=\"Open In Colab\"/></a>"
      ]
    },
    {
      "cell_type": "markdown",
      "metadata": {
        "id": "f0-Qcj1XSGoh"
      },
      "source": [
        "**Assignment**:\n",
        "\n",
        "Try SVM classifier on MNIST dataset, compare the performance of linear, polynomial and RBF kernels.\n"
      ]
    },
    {
      "cell_type": "code",
      "metadata": {
        "id": "XSZNc2YkR_lk"
      },
      "source": [
        "import numpy as np\n",
        "import matplotlib.pyplot as plt\n",
        "from sklearn.svm import SVC\n",
        "from sklearn.model_selection import train_test_split"
      ],
      "execution_count": 1,
      "outputs": []
    },
    {
      "cell_type": "code",
      "metadata": {
        "colab": {
          "base_uri": "https://localhost:8080/"
        },
        "id": "DOTonxaMBVmk",
        "outputId": "fed3eeb5-d2a2-4a0a-da6b-bc8a01e4a591"
      },
      "source": [
        "# Load MNIST Dataset\n",
        "from tensorflow.keras.datasets import mnist\n",
        "(X_train, y_train), (X_test, y_test) = mnist.load_data()"
      ],
      "execution_count": 2,
      "outputs": [
        {
          "output_type": "stream",
          "name": "stdout",
          "text": [
            "Downloading data from https://storage.googleapis.com/tensorflow/tf-keras-datasets/mnist.npz\n",
            "11493376/11490434 [==============================] - 0s 0us/step\n",
            "11501568/11490434 [==============================] - 0s 0us/step\n"
          ]
        }
      ]
    },
    {
      "cell_type": "code",
      "metadata": {
        "colab": {
          "base_uri": "https://localhost:8080/"
        },
        "id": "Vzl1LpVXDqrQ",
        "scrolled": true,
        "outputId": "8daeab7b-95c2-4306-bde6-e1c91d45902c"
      },
      "source": [
        "# print the features\n",
        "print(X_train[:2])\n",
        "# print the labels\n",
        "print(y_train[:2])"
      ],
      "execution_count": 3,
      "outputs": [
        {
          "output_type": "stream",
          "name": "stdout",
          "text": [
            "[[[0 0 0 ... 0 0 0]\n",
            "  [0 0 0 ... 0 0 0]\n",
            "  [0 0 0 ... 0 0 0]\n",
            "  ...\n",
            "  [0 0 0 ... 0 0 0]\n",
            "  [0 0 0 ... 0 0 0]\n",
            "  [0 0 0 ... 0 0 0]]\n",
            "\n",
            " [[0 0 0 ... 0 0 0]\n",
            "  [0 0 0 ... 0 0 0]\n",
            "  [0 0 0 ... 0 0 0]\n",
            "  ...\n",
            "  [0 0 0 ... 0 0 0]\n",
            "  [0 0 0 ... 0 0 0]\n",
            "  [0 0 0 ... 0 0 0]]]\n",
            "[5 0]\n"
          ]
        }
      ]
    },
    {
      "cell_type": "code",
      "metadata": {
        "colab": {
          "base_uri": "https://localhost:8080/"
        },
        "id": "TSaRYON8iq7A",
        "outputId": "1379cc4b-5432-4ed5-8957-2e6335f6416b"
      },
      "source": [
        "# Size of training and testing\n",
        "print('X_train : ', X_train.data.shape)\n",
        "print('y_train : ', y_train.data.shape)\n",
        "print('X_test : ', X_test.data.shape)\n",
        "print('y_test : ', y_test.data.shape)"
      ],
      "execution_count": 4,
      "outputs": [
        {
          "output_type": "stream",
          "name": "stdout",
          "text": [
            "X_train :  (60000, 28, 28)\n",
            "y_train :  (60000,)\n",
            "X_test :  (10000, 28, 28)\n",
            "y_test :  (10000,)\n"
          ]
        }
      ]
    },
    {
      "cell_type": "code",
      "metadata": {
        "id": "0GxwmHoziq7B"
      },
      "source": [
        "# Working with sample_size as the dataset is large\n",
        "# Considering 10000 images and giving 8000 images to training and 2000 images to testing\n",
        "train_sample_size = 8000\n",
        "test_sample_size = 2000\n",
        "\n",
        "X_train = X_train[:train_sample_size]\n",
        "y_train = y_train[:train_sample_size]\n",
        "X_test = X_test[:test_sample_size]\n",
        "y_test = y_test[:test_sample_size]"
      ],
      "execution_count": 5,
      "outputs": []
    },
    {
      "cell_type": "code",
      "metadata": {
        "colab": {
          "base_uri": "https://localhost:8080/"
        },
        "id": "dxWEQUTMiq7C",
        "outputId": "5d6987f6-0846-45fb-daae-b8ac17c170bb"
      },
      "source": [
        "print('X_train : ', X_train.data.shape)\n",
        "print('y_train : ', y_train.data.shape)\n",
        "print('X_test : ', X_test.data.shape)\n",
        "print('y_test : ', y_test.data.shape)"
      ],
      "execution_count": 6,
      "outputs": [
        {
          "output_type": "stream",
          "name": "stdout",
          "text": [
            "X_train :  (8000, 28, 28)\n",
            "y_train :  (8000,)\n",
            "X_test :  (2000, 28, 28)\n",
            "y_test :  (2000,)\n"
          ]
        }
      ]
    },
    {
      "cell_type": "code",
      "metadata": {
        "id": "WgUXh4nBIY8c"
      },
      "source": [
        "# fit needs 2D array for training \n",
        "# So reshaping the numpy array from (sample_size, 28, 28) to (sample_size, 784)\n",
        "\n",
        "samples, x, y = X_train.shape\n",
        "X_train = X_train.reshape((samples, x*y))\n",
        "\n",
        "samples, x, y = X_test.shape\n",
        "X_test = X_test.reshape((samples, x*y))"
      ],
      "execution_count": 7,
      "outputs": []
    },
    {
      "cell_type": "markdown",
      "metadata": {
        "id": "g7YpFO2IBqzm"
      },
      "source": [
        "**Linear Kernel**"
      ]
    },
    {
      "cell_type": "code",
      "metadata": {
        "id": "QKjdqc-WBbKm"
      },
      "source": [
        "# Create a model with linear kernel\n",
        "# C - regularization (0-1)\n",
        "# gamma\n",
        "linearModel = SVC(kernel='linear')"
      ],
      "execution_count": 8,
      "outputs": []
    },
    {
      "cell_type": "code",
      "metadata": {
        "id": "FQgZ40RzI12N",
        "colab": {
          "base_uri": "https://localhost:8080/"
        },
        "outputId": "cf708866-2ee5-40b1-8803-3dc592da3267"
      },
      "source": [
        "# fit needs 2D array for training \n",
        "linearModel.fit(X_train, y_train)"
      ],
      "execution_count": 9,
      "outputs": [
        {
          "output_type": "execute_result",
          "data": {
            "text/plain": [
              "SVC(C=1.0, break_ties=False, cache_size=200, class_weight=None, coef0=0.0,\n",
              "    decision_function_shape='ovr', degree=3, gamma='scale', kernel='linear',\n",
              "    max_iter=-1, probability=False, random_state=None, shrinking=True,\n",
              "    tol=0.001, verbose=False)"
            ]
          },
          "metadata": {},
          "execution_count": 9
        }
      ]
    },
    {
      "cell_type": "code",
      "metadata": {
        "id": "ZLn6kfhOFa2n",
        "colab": {
          "base_uri": "https://localhost:8080/"
        },
        "outputId": "7fac2a9b-a0cd-4e92-e886-047052b9f653"
      },
      "source": [
        "# Model analysis\n",
        "print('Linear kernel score : ', linearModel.score(X_test, y_test))"
      ],
      "execution_count": 10,
      "outputs": [
        {
          "output_type": "stream",
          "name": "stdout",
          "text": [
            "Linear kernel score :  0.887\n"
          ]
        }
      ]
    },
    {
      "cell_type": "markdown",
      "metadata": {
        "id": "JTkFpkn0CAU6"
      },
      "source": [
        "**Polynomial Kernel**"
      ]
    },
    {
      "cell_type": "code",
      "metadata": {
        "id": "_uRy0LIfCDV-"
      },
      "source": [
        "# Create a model with polynomial kernel\n",
        "polynomialModel = SVC(kernel='poly')"
      ],
      "execution_count": 11,
      "outputs": []
    },
    {
      "cell_type": "code",
      "metadata": {
        "id": "eUADPQjWLE61",
        "colab": {
          "base_uri": "https://localhost:8080/"
        },
        "outputId": "3f70c920-aa6e-4474-b827-d77055e123e9"
      },
      "source": [
        "# fit needs 2D array for training \n",
        "polynomialModel.fit(X_train, y_train)"
      ],
      "execution_count": 12,
      "outputs": [
        {
          "output_type": "execute_result",
          "data": {
            "text/plain": [
              "SVC(C=1.0, break_ties=False, cache_size=200, class_weight=None, coef0=0.0,\n",
              "    decision_function_shape='ovr', degree=3, gamma='scale', kernel='poly',\n",
              "    max_iter=-1, probability=False, random_state=None, shrinking=True,\n",
              "    tol=0.001, verbose=False)"
            ]
          },
          "metadata": {},
          "execution_count": 12
        }
      ]
    },
    {
      "cell_type": "code",
      "metadata": {
        "id": "EhLh66bsLNlK",
        "colab": {
          "base_uri": "https://localhost:8080/"
        },
        "outputId": "a62db249-0ca4-4320-d6b0-089d57f46d63"
      },
      "source": [
        "# Model analysis\n",
        "print('Polynomial kernel score : ', polynomialModel.score(X_test, y_test))"
      ],
      "execution_count": 13,
      "outputs": [
        {
          "output_type": "stream",
          "name": "stdout",
          "text": [
            "Polynomial kernel score :  0.9255\n"
          ]
        }
      ]
    },
    {
      "cell_type": "markdown",
      "metadata": {
        "id": "CKf5DzogCEwU"
      },
      "source": [
        "**RBF Kernel**"
      ]
    },
    {
      "cell_type": "code",
      "metadata": {
        "id": "3w4cht_9CHee"
      },
      "source": [
        "# Create a model with rbf kernel\n",
        "rbfModel = SVC(kernel='rbf')"
      ],
      "execution_count": 14,
      "outputs": []
    },
    {
      "cell_type": "code",
      "metadata": {
        "id": "SxdXEQymLOg5",
        "colab": {
          "base_uri": "https://localhost:8080/"
        },
        "outputId": "912c6e17-7b2a-4a11-cb4b-63218adec1ac"
      },
      "source": [
        "# fit needs 2D array for training \n",
        "rbfModel.fit(X_train, y_train)"
      ],
      "execution_count": 15,
      "outputs": [
        {
          "output_type": "execute_result",
          "data": {
            "text/plain": [
              "SVC(C=1.0, break_ties=False, cache_size=200, class_weight=None, coef0=0.0,\n",
              "    decision_function_shape='ovr', degree=3, gamma='scale', kernel='rbf',\n",
              "    max_iter=-1, probability=False, random_state=None, shrinking=True,\n",
              "    tol=0.001, verbose=False)"
            ]
          },
          "metadata": {},
          "execution_count": 15
        }
      ]
    },
    {
      "cell_type": "code",
      "metadata": {
        "id": "63bmv9LtLl6Y",
        "colab": {
          "base_uri": "https://localhost:8080/"
        },
        "outputId": "db9a1eab-3f1b-4ee3-a5fd-2cb8753f7342"
      },
      "source": [
        "# Model analysis\n",
        "print('Rbf kernel score : ', rbfModel.score(X_test, y_test))"
      ],
      "execution_count": 16,
      "outputs": [
        {
          "output_type": "stream",
          "name": "stdout",
          "text": [
            "Rbf kernel score :  0.942\n"
          ]
        }
      ]
    }
  ]
}