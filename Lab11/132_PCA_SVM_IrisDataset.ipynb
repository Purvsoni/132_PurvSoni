{
  "nbformat": 4,
  "nbformat_minor": 5,
  "metadata": {
    "kernelspec": {
      "display_name": "Python 3 (ipykernel)",
      "language": "python",
      "name": "python3"
    },
    "language_info": {
      "codemirror_mode": {
        "name": "ipython",
        "version": 3
      },
      "file_extension": ".py",
      "mimetype": "text/x-python",
      "name": "python",
      "nbconvert_exporter": "python",
      "pygments_lexer": "ipython3",
      "version": "3.8.1"
    },
    "colab": {
      "name": "PCA_SVM_IrisDataset.ipynb",
      "provenance": [],
      "include_colab_link": true
    }
  },
  "cells": [
    {
      "cell_type": "markdown",
      "metadata": {
        "id": "view-in-github",
        "colab_type": "text"
      },
      "source": [
        "<a href=\"https://colab.research.google.com/github/Purvsoni/132_PurvSoni/blob/main/Lab11/132_PCA_SVM_IrisDataset.ipynb\" target=\"_parent\"><img src=\"https://colab.research.google.com/assets/colab-badge.svg\" alt=\"Open In Colab\"/></a>"
      ]
    },
    {
      "cell_type": "markdown",
      "metadata": {
        "id": "f798fc6b"
      },
      "source": [
        "## Assignment: Perform SVM with PCA operation on Iris Dataset."
      ],
      "id": "f798fc6b"
    },
    {
      "cell_type": "code",
      "metadata": {
        "id": "c693ac4c"
      },
      "source": [
        "# Import required libraries\n",
        "import sys, os\n",
        "import matplotlib.pyplot as plt\n",
        "from sklearn import svm\n",
        "from sklearn.model_selection import train_test_split\n",
        "import pandas as pd\n",
        "from sklearn import decomposition\n",
        "import numpy as np\n",
        "from sklearn import metrics\n",
        "from sklearn.pipeline import Pipeline"
      ],
      "id": "c693ac4c",
      "execution_count": 1,
      "outputs": []
    },
    {
      "cell_type": "code",
      "metadata": {
        "colab": {
          "base_uri": "https://localhost:8080/"
        },
        "id": "c78a7153",
        "outputId": "583b93e0-a819-4efc-ba71-15510bef99b9"
      },
      "source": [
        "# Load iris cancer dataset\n",
        "from sklearn import datasets\n",
        "dataset = datasets.load_iris()\n",
        "dataset.data.shape"
      ],
      "id": "c78a7153",
      "execution_count": 2,
      "outputs": [
        {
          "output_type": "execute_result",
          "data": {
            "text/plain": [
              "(150, 4)"
            ]
          },
          "metadata": {},
          "execution_count": 2
        }
      ]
    },
    {
      "cell_type": "code",
      "metadata": {
        "colab": {
          "base_uri": "https://localhost:8080/"
        },
        "id": "eb07521f",
        "outputId": "176c0a7e-9c6e-4d42-cb0c-cf5109d70f54"
      },
      "source": [
        "# Split the dataset into train and test\n",
        "df = pd.DataFrame(dataset.data,columns=dataset.feature_names)\n",
        "\n",
        "X_train, X_test, y_train, y_test = train_test_split(dataset.data, dataset.target, random_state=132)\n",
        "\n",
        "print(X_train.shape, X_test.shape)"
      ],
      "id": "eb07521f",
      "execution_count": 3,
      "outputs": [
        {
          "output_type": "stream",
          "name": "stdout",
          "text": [
            "(112, 4) (38, 4)\n"
          ]
        }
      ]
    },
    {
      "cell_type": "code",
      "metadata": {
        "id": "312c8cfd"
      },
      "source": [
        "# Performing preprocessing using PCA and output of PCA is given to the SVM as we are using Pipeline\n",
        "clf = Pipeline([('pca', decomposition.PCA(n_components=3, whiten=True)),\n",
        "                ('svm', svm.LinearSVC(C=1.0))])\n",
        "\n",
        "clf.fit(X_train, y_train)\n",
        "\n",
        "y_pred = clf.predict(X_test)"
      ],
      "id": "312c8cfd",
      "execution_count": 4,
      "outputs": []
    },
    {
      "cell_type": "code",
      "metadata": {
        "colab": {
          "base_uri": "https://localhost:8080/"
        },
        "id": "9d7e24b9",
        "outputId": "00ac08ba-4d23-4ef3-b7ab-e9c3c71ef9e3"
      },
      "source": [
        "# Confusion matrix\n",
        "print(metrics.confusion_matrix(y_pred, y_test))\n",
        "plt.show()"
      ],
      "id": "9d7e24b9",
      "execution_count": 5,
      "outputs": [
        {
          "output_type": "stream",
          "name": "stdout",
          "text": [
            "[[ 9  0  0]\n",
            " [ 0 14  0]\n",
            " [ 0  2 13]]\n"
          ]
        }
      ]
    },
    {
      "cell_type": "code",
      "metadata": {
        "colab": {
          "base_uri": "https://localhost:8080/"
        },
        "id": "b2060d45",
        "outputId": "eec37f55-541a-4700-b9ed-05df04f1c1a5"
      },
      "source": [
        "# CLassification report\n",
        "print(metrics.classification_report(y_test, y_pred))"
      ],
      "id": "b2060d45",
      "execution_count": 6,
      "outputs": [
        {
          "output_type": "stream",
          "name": "stdout",
          "text": [
            "              precision    recall  f1-score   support\n",
            "\n",
            "           0       1.00      1.00      1.00         9\n",
            "           1       1.00      0.88      0.93        16\n",
            "           2       0.87      1.00      0.93        13\n",
            "\n",
            "    accuracy                           0.95        38\n",
            "   macro avg       0.96      0.96      0.95        38\n",
            "weighted avg       0.95      0.95      0.95        38\n",
            "\n"
          ]
        }
      ]
    }
  ]
}